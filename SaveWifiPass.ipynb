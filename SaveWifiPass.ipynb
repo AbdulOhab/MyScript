{
 "cells": [
  {
   "cell_type": "code",
   "execution_count": 2,
   "metadata": {},
   "outputs": [
    {
     "name": "stdout",
     "output_type": "stream",
     "text": [
      "Abdul Wahab                   |  12345678\n",
      "Smile please                  |  Nion2023seu\n",
      "Smile please_5G               |  Nion2023seu\n",
      "5B                            |  nikonjo007\n",
      "WINDOWS-RA3JT1C 3862          |  12345678\n",
      "Room504                       |  12345678\n",
      "Motasim                       |  Motasim2041\n",
      "SPL                           |  010101spl\n",
      "bnb                           |  123456789\n",
      "get-free-wifi-here            |  12345678\n",
      "realme 8                      |  ux2dvheb\n",
      "SMILEPLACE 2.4GHZ             |  ####****\n",
      "SMILEPLACE 2.4GHZ_5G          |  ####****\n",
      "Smile Please                  |  Nion2023seu\n",
      "Redmi 9 Prime                 |  nightquen\n",
      "Redmi Note 7 Pro              |  deadpool\n",
      "SEULibrary                    |  seulib2022\n",
      "Dream house                   |  limon@2022\n",
      "BADC                          |  badc2021@@@@\n",
      "TP-Link_9FE9_5G               |  42955993\n",
      "TP-Link_9FE9                  |  42955993\n",
      "King Mahabub                  |  mahabub420\n",
      "Infinix HOT 11S               |  12345678\n",
      "Al- amin hom                  |  61366136\n",
      "Nokia 5.1 Plus                |  abdulohab\n",
      "Bokul Tola                    |  september2021\n",
      "Nokia 5.1 Plus 2              |  \n",
      "Family house                  |  ####%%%%\n",
      "TP-Link_C680                  |  03373460\n",
      "Ashraful                      |  ashraful13579\n",
      "Arnob                         |  ohmygod11\n"
     ]
    }
   ],
   "source": [
    "import subprocess\n",
    "\n",
    "data = subprocess.check_output(['netsh', 'wlan', 'show', 'profiles']).decode('utf-8').split('\\n')\n",
    "profiles = [i.split(\":\")[1][1:-1] for i in data if \"All User Profile\" in i]\n",
    "for i in profiles:\n",
    "    results = subprocess.check_output(['netsh', 'wlan', 'show', 'profile', i, 'key=clear']).decode('utf-8').split('\\n')\n",
    "    results = [b.split(\":\")[1][1:-1] for b in results if \"Key Content\" in b]\n",
    "    try:\n",
    "        print (\"{:<30}|  {:<}\".format(i, results[0]))\n",
    "    except IndexError:\n",
    "        print (\"{:<30}|  {:<}\".format(i, \"\"))\n"
   ]
  },
  {
   "cell_type": "code",
   "execution_count": null,
   "metadata": {},
   "outputs": [],
   "source": []
  },
  {
   "cell_type": "code",
   "execution_count": 2,
   "metadata": {},
   "outputs": [
    {
     "name": "stdout",
     "output_type": "stream",
     "text": [
      "8ns3=6R^[W~'\n"
     ]
    }
   ],
   "source": [
    "'''\n",
    "Password Generator\n",
    "-------------------------------------------------------------\n",
    "'''\n",
    "\n",
    "\n",
    "import secrets\n",
    "import string\n",
    "\n",
    "\n",
    "def create_pw(pw_length=12):\n",
    "   letters = string.ascii_letters\n",
    "   digits = string.digits\n",
    "   special_chars = string.punctuation\n",
    "\n",
    "   alphabet = letters + digits + special_chars\n",
    "   pwd = ''\n",
    "   pw_strong = False\n",
    "\n",
    "   while not pw_strong:\n",
    "       pwd = ''\n",
    "       for i in range(pw_length):\n",
    "           pwd += ''.join(secrets.choice(alphabet))\n",
    "\n",
    "       if (any(char in special_chars for char in pwd) and\n",
    "               sum(char in digits for char in pwd) >= 2):\n",
    "           pw_strong = True\n",
    "\n",
    "   return pwd\n",
    "\n",
    "\n",
    "if __name__ == '__main__':\n",
    "   print(create_pw())\n"
   ]
  },
  {
   "cell_type": "code",
   "execution_count": null,
   "metadata": {},
   "outputs": [],
   "source": []
  }
 ],
 "metadata": {
  "interpreter": {
   "hash": "b3ba2566441a7c06988d0923437866b63cedc61552a5af99d1f4fb67d367b25f"
  },
  "kernelspec": {
   "display_name": "Python 3.9.12 ('base')",
   "language": "python",
   "name": "python3"
  },
  "language_info": {
   "codemirror_mode": {
    "name": "ipython",
    "version": 3
   },
   "file_extension": ".py",
   "mimetype": "text/x-python",
   "name": "python",
   "nbconvert_exporter": "python",
   "pygments_lexer": "ipython3",
   "version": "3.9.12"
  },
  "orig_nbformat": 4
 },
 "nbformat": 4,
 "nbformat_minor": 2
}
