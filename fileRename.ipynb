{
 "cells": [
  {
   "cell_type": "code",
   "execution_count": 1,
   "metadata": {},
   "outputs": [],
   "source": [
    "import os\n",
    "\n",
    "\n",
    "def main():\n",
    "\n",
    "\tfolder = \"dataset-part1\"\n",
    "\tfor count, filename in enumerate(os.listdir(folder)):\n",
    "\t\tdst = f\"{str(count)}.jpg\"\n",
    "\t\t# foldername/filename, if .py file is outside folder\n",
    "\t\tsrc = f\"{folder}/{filename}\"\n",
    "\t\tdst = f\"{folder}/{dst}\"\n",
    "\n",
    "\t\t# rename() function will\n",
    "\t\t# rename all the files\n",
    "\t\tos.rename(src, dst)\n",
    "\n",
    "\n",
    "# Driver Code\n",
    "if __name__ == '__main__':\n",
    "\n",
    "\t# Calling main() function\n",
    "\tmain()\n"
   ]
  }
 ],
 "metadata": {
  "interpreter": {
   "hash": "b3ba2566441a7c06988d0923437866b63cedc61552a5af99d1f4fb67d367b25f"
  },
  "kernelspec": {
   "display_name": "Python 3.9.12 ('base')",
   "language": "python",
   "name": "python3"
  },
  "language_info": {
   "codemirror_mode": {
    "name": "ipython",
    "version": 3
   },
   "file_extension": ".py",
   "mimetype": "text/x-python",
   "name": "python",
   "nbconvert_exporter": "python",
   "pygments_lexer": "ipython3",
   "version": "3.9.12"
  },
  "orig_nbformat": 4
 },
 "nbformat": 4,
 "nbformat_minor": 2
}
